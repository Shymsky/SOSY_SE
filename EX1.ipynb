{
 "cells": [
  {
   "cell_type": "markdown",
   "metadata": {},
   "source": [
    "# Complexity Hotspots"
   ]
  },
  {
   "cell_type": "markdown",
   "metadata": {},
   "source": [
    "### 1. You must consider only the app folder from the Mastodon repository\n",
    "(i.e., https://github.com/mastodon/mastodon)."
   ]
  },
  {
   "cell_type": "code",
   "execution_count": 1,
   "metadata": {},
   "outputs": [],
   "source": [
    "import pydriller\n",
    "import numpy as np\n",
    "import matplotlib.pyplot as plt\n",
    "import pickle\n",
    "import os\n",
    "plt.rc('text', usetex=True)\n",
    "plt.rc('font', family='serif')"
   ]
  },
  {
   "cell_type": "markdown",
   "metadata": {},
   "source": [
    "### 2. Decide on the granularity of your analysis of software entities (e.g., source code\n",
    "files); describe why you selected this specific granularity."
   ]
  },
  {
   "cell_type": "code",
   "execution_count": 36,
   "metadata": {
    "vscode": {
     "languageId": "powershell"
    }
   },
   "outputs": [],
   "source": [
    "# run inside \\mastodon\\app\n",
    "git ls-files | awk -F . '{print $NF}' | sort | uniq -c | sort -n -r | awk '{print $2,$1}' | head -10\n",
    "rb 895\n",
    "js 437\n",
    "haml 214\n",
    "json 178\n",
    "png 37\n",
    "erb 33\n",
    "scss 32\n",
    "svg 24\n",
    "woff2 5\n",
    "woff 5"
   ]
  },
  {
   "cell_type": "markdown",
   "metadata": {},
   "source": [
    "### 3. Create a list of all these entities, as they appear in the latest stable release of Mastodon (i.e., tag v3.5.3). "
   ]
  },
  {
   "cell_type": "markdown",
   "metadata": {},
   "source": [
    "**Number of entities for tagged v3.5.3.**\n",
    "\n",
    "First we change to that version with the command \"git checkout tags/v3.5.3\".\n",
    "Then we create a pydriller git object to obtain the number of files we had at that time.\n",
    "We can also find the defined entities with the following commands:"
   ]
  },
  {
   "cell_type": "code",
   "execution_count": null,
   "metadata": {
    "vscode": {
     "languageId": "powershell"
    }
   },
   "outputs": [],
   "source": [
    "git checkout tags/v3.5.3\n",
    "cd app\n",
    "find . -type f -name \"*.rb\" | awk -F / '{print $(NF)}' > mastodon_rubyfiles.txt"
   ]
  },
  {
   "cell_type": "code",
   "execution_count": 6,
   "metadata": {},
   "outputs": [
    {
     "name": "stdout",
     "output_type": "stream",
     "text": [
      "Total number of entities for tag v3.5.3:  815\n"
     ]
    }
   ],
   "source": [
    "mastodon_path = \"C:\\\\Users\\\\szymo\\\\Desktop\\\\SOSy_repos\\\\mastodon\"\n",
    "mastodon_app_path = os.path.join(mastodon_path, \"app\")\n",
    "git = pydriller.git.Git(mastodon_path)\n",
    "files = git.files()\n",
    "total=[]\n",
    "for file in files:\n",
    "    if mastodon_app_path in file and \".rb\" in file:\n",
    "        total.append(file)\n",
    "entities = []\n",
    "for f in total:\n",
    "    entities.append(f.split(\"\\\\\")[-1])\n",
    "print(\"Total number of entities for tag v3.5.3: \", len(entities))\n",
    "\n",
    "# save entities to pickle\n",
    "with open('entities.pickle', 'wb') as handle:\n",
    "    pickle.dump(entities, handle, protocol=pickle.HIGHEST_PROTOCOL)"
   ]
  },
  {
   "cell_type": "code",
   "execution_count": 7,
   "metadata": {},
   "outputs": [],
   "source": [
    "# OTHER VERSION - to be corrected?\n",
    "\n",
    "repo = pydriller.Repository(mastodon_path, from_tag=\"v3.0.0\", to_tag=\"v3.5.3\")\n",
    "latest_release_commits = list(repo.traverse_commits())\n",
    "files = {}\n",
    "for commit in latest_release_commits:\n",
    "    for m in commit.modified_files:\n",
    "        # keep only files with .rb extension\n",
    "        if m.filename.endswith('.rb'):\n",
    "            # FILE IS ADDED \n",
    "            if m.new_path is not None and m.old_path is None:\n",
    "                # example:  m.new_path = 'app/sth.rn' & old_path = None\n",
    "                files[m.new_path] = m.filename\n",
    "            # FILE IS DELETED\n",
    "            elif m.new_path is None and m.old_path is not None:\n",
    "                # example:  m.new_path = None         & old_path = 'app/sth.rn'\n",
    "                files[m.old_path] = 'deleted'\n",
    "            # else:\n",
    "            #     if m.new_path != m.old_path:\n",
    "            #         print(m)\n",
    "            #         files[m.new_path] = m.filename\n",
    "            #         files[m.old_path] = 'deleted'\n",
    "\n",
    "# keep only files that are not deleted\n",
    "files_filtered = {k: v for k, v in files.items() if v != 'deleted'}\n",
    "\n",
    "# keep only the files that are in app/ \n",
    "files_entities = {k: v for k, v in files_filtered.items() if k.startswith('app\\\\')}\n",
    "\n",
    "# get just the names\n",
    "files_entities_names = list(files_entities.values())\n",
    "print(\"Number of files: \", len(files_entities_names))"
   ]
  },
  {
   "cell_type": "markdown",
   "metadata": {},
   "source": [
    "### 4. Decide on the type of complexity you want to measure for your software entities and explain why you selected this type."
   ]
  },
  {
   "cell_type": "markdown",
   "metadata": {},
   "source": [
    "TODO"
   ]
  },
  {
   "cell_type": "markdown",
   "metadata": {},
   "source": [
    "### 5. Decide on a timeframe on which you want to base your analysis and explain the rationale of your choice."
   ]
  },
  {
   "cell_type": "markdown",
   "metadata": {},
   "source": [
    "The time interval chosen was guided by the versions indicated in the different tags. We analyzed the entities defined from the code version tagged as v3.0.0 to version v3.5.3. We assume that version 3.0.0 corresponds to a code version after a major change. Thus, version 3.5.3 has been reached by a series of minor changes and fixes and, consequently, this version and all intermediate versions correspond to a change over a code without major technical and logical differences."
   ]
  },
  {
   "cell_type": "code",
   "execution_count": null,
   "metadata": {},
   "outputs": [],
   "source": [
    "# needed to run only once to create a file\n",
    "\n",
    "# repo = pydriller.Repository(mastodon_path, from_tag=\"v3.0.0\", to_tag=\"v3.5.3\")\n",
    "# with open('repo.pkl', 'wb') as f:\n",
    "#     pickle.dump(repo, f)"
   ]
  },
  {
   "cell_type": "code",
   "execution_count": null,
   "metadata": {},
   "outputs": [],
   "source": [
    "import pydriller\n",
    "import numpy as np\n",
    "import matplotlib.pyplot as plt\n",
    "import pickle\n",
    "import os\n",
    "plt.rc('text', usetex=True)\n",
    "plt.rc('font', family='serif')"
   ]
  },
  {
   "cell_type": "code",
   "execution_count": 2,
   "metadata": {},
   "outputs": [],
   "source": [
    "# open the Repository file\n",
    "with open('repo.pkl', 'rb') as f:\n",
    "    repo = pickle.load(f)\n",
    "\n",
    "# open the entities file\n",
    "with open('entities.pickle', 'rb') as handle:\n",
    "    entities = pickle.load(handle)"
   ]
  },
  {
   "cell_type": "markdown",
   "metadata": {},
   "source": [
    "### 6. For each entity in the system, measure its complexity and the number of changes (in the given timeframe). Merge these two pieces of information together to create a candidate list of problematic hotspots in the app part of Mastodon."
   ]
  },
  {
   "cell_type": "code",
   "execution_count": 3,
   "metadata": {},
   "outputs": [],
   "source": [
    "# from the commits that belong to the interval between the chosen tags, \n",
    "# we extract the information to know the changed entities and their complexities\n",
    "file_changes = {}\n",
    "file_complexities = {}\n",
    "for c in repo.traverse_commits():\n",
    "    for mf in c.modified_files:\n",
    "        if mf.filename not in file_changes:\n",
    "            file_changes[mf.filename] = 1\n",
    "            file_complexities[mf.filename] = [mf.complexity]\n",
    "        else:\n",
    "            file_changes[mf.filename] += 1  \n",
    "            file_complexities[mf.filename].append(mf.complexity)"
   ]
  },
  {
   "cell_type": "code",
   "execution_count": 4,
   "metadata": {},
   "outputs": [],
   "source": [
    "entity_changes = {}\n",
    "entity_complexities = {}\n",
    "for fc in file_changes:\n",
    "    if fc in entities:\n",
    "        entity_changes[fc] = file_changes[fc]\n",
    "        entity_complexities[fc] = file_complexities[fc]"
   ]
  },
  {
   "cell_type": "code",
   "execution_count": 5,
   "metadata": {},
   "outputs": [],
   "source": [
    "# the dictionary entity_changes contains the entities that have changed in the analyzed interval\n",
    "# as keys and the number of times that they have changed as values\n",
    "entity_changes = {k: v for k, v in sorted(entity_changes.items(), key=lambda item: item[1], reverse=True)}"
   ]
  },
  {
   "cell_type": "code",
   "execution_count": null,
   "metadata": {},
   "outputs": [],
   "source": [
    "def plot_complexity_trend(entity):\n",
    "    plt.figure(figsize=(10,7))\n",
    "    plt.tick_params(axis='both', labelsize=16)\n",
    "    plt.plot(entity_complexities[entity], marker=\"o\")\n",
    "    plt.title(\"Complexity trend - \" + entity.replace('_', ' '), fontsize=25)\n",
    "    plt.xlabel(\"Commits\", fontsize=20)\n",
    "    plt.ylabel(\"Complexity\", fontsize=20)\n",
    "    plt.show()"
   ]
  },
  {
   "cell_type": "code",
   "execution_count": null,
   "metadata": {},
   "outputs": [],
   "source": []
  },
  {
   "cell_type": "code",
   "execution_count": null,
   "metadata": {},
   "outputs": [],
   "source": []
  }
 ],
 "metadata": {
  "kernelspec": {
   "display_name": "Python 3.8.13 ('DL')",
   "language": "python",
   "name": "python3"
  },
  "language_info": {
   "codemirror_mode": {
    "name": "ipython",
    "version": 3
   },
   "file_extension": ".py",
   "mimetype": "text/x-python",
   "name": "python",
   "nbconvert_exporter": "python",
   "pygments_lexer": "ipython3",
   "version": "3.8.13"
  },
  "orig_nbformat": 4,
  "vscode": {
   "interpreter": {
    "hash": "a7470ae86e57d468cb848d5b5b62a40a84e08338f855f2d63a3dbd376099e19e"
   }
  }
 },
 "nbformat": 4,
 "nbformat_minor": 2
}
