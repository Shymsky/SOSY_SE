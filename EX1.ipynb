{
 "cells": [
  {
   "cell_type": "markdown",
   "metadata": {},
   "source": [
    "# Complexity Hotspots"
   ]
  },
  {
   "cell_type": "markdown",
   "metadata": {},
   "source": [
    "1. You must consider only the app folder from the Mastodon repository\n",
    "(i.e., https://github.com/mastodon/mastodon)."
   ]
  },
  {
   "cell_type": "code",
   "execution_count": 2,
   "metadata": {},
   "outputs": [],
   "source": [
    "import pydriller\n",
    "# load the repository into PyDriller from URL \n",
    "repo = pydriller.Repository('https://github.com/mastodon/mastodon')\n",
    "\n",
    "import pickle\n",
    "# save repo as pickle file\n",
    "with open('repo.pkl', 'wb') as f:\n",
    "    pickle.dump(repo, f)"
   ]
  },
  {
   "cell_type": "code",
   "execution_count": 58,
   "metadata": {},
   "outputs": [],
   "source": [
    "# open the pickle file\n",
    "with open('repo.pkl', 'rb') as f:\n",
    "    repo_mastodon = pickle.load(f)\n",
    "\n",
    "# get the commits\n",
    "all_commits = list(repo_mastodon.traverse_commits())"
   ]
  },
  {
   "cell_type": "markdown",
   "metadata": {},
   "source": [
    "2. Decide on the granularity of your analysis of software entities (e.g., source code\n",
    "files); describe why you selected this specific granularity."
   ]
  },
  {
   "cell_type": "code",
   "execution_count": 36,
   "metadata": {
    "vscode": {
     "languageId": "powershell"
    }
   },
   "outputs": [],
   "source": [
    "# run inside \\mastodon\\app\n",
    "git ls-files | awk -F . '{print $NF}' | sort | uniq -c | sort -n -r | awk '{print $2,$1}' | head -10\n",
    "rb 895\n",
    "js 437\n",
    "haml 214\n",
    "json 178\n",
    "png 37\n",
    "erb 33\n",
    "scss 32\n",
    "svg 24\n",
    "woff2 5\n",
    "woff 5"
   ]
  },
  {
   "cell_type": "markdown",
   "metadata": {},
   "source": [
    "3. Create a list of all these entities, as they appear in the latest stable release of Mastodon (i.e., tag v3.5.3). "
   ]
  },
  {
   "cell_type": "code",
   "execution_count": null,
   "metadata": {
    "vscode": {
     "languageId": "powershell"
    }
   },
   "outputs": [],
   "source": [
    "# run inside \\mastodon\\app\n",
    "# list just names of all files with .rb extension using git\n",
    "git ls-files '*.rb' | awk -F / '{print $NF}' > rb_files.txt"
   ]
  },
  {
   "cell_type": "code",
   "execution_count": 56,
   "metadata": {},
   "outputs": [],
   "source": [
    "# read txt file to a list\n",
    "with open('rb_files.txt', 'r') as f:\n",
    "    rb_files = f.readlines()"
   ]
  },
  {
   "cell_type": "code",
   "execution_count": 3,
   "metadata": {},
   "outputs": [
    {
     "name": "stdout",
     "output_type": "stream",
     "text": [
      "Number of commits:  4167\n"
     ]
    }
   ],
   "source": [
    "latest_release = pydriller.Repository('C:\\\\Users\\\\szymo\\\\Desktop\\\\SOSy_repos\\\\mastodon',\n",
    "                                        only_modifications_with_file_types=[\".rb\"],\n",
    "                                        to_tag=\"v3.5.3\")\n",
    "latest_release_commits = list(latest_release.traverse_commits())\n",
    "print(\"Number of commits: \", len(latest_release_commits))"
   ]
  },
  {
   "cell_type": "code",
   "execution_count": 21,
   "metadata": {},
   "outputs": [
    {
     "name": "stdout",
     "output_type": "stream",
     "text": [
      "Number of files:  1469\n",
      "Number of unique files:  1469\n"
     ]
    }
   ],
   "source": [
    "files = {}\n",
    "for commit in latest_release_commits:\n",
    "    for m in commit.modified_files:\n",
    "        # if new_path is not None then save to dict\n",
    "        if m.new_path is not None:\n",
    "            files[m.filename] = m.new_path\n",
    "        else:\n",
    "            # file was deleted -> change the value for that filename\n",
    "            files[m.filename] = 'deleted'\t\n",
    "\n",
    "# keep only files that are not deleted\n",
    "files_filtered = {k: v for k, v in files.items() if v != 'deleted'}\n",
    "\n",
    "# keep only the files that are in app/ \n",
    "files_entities= {k: v for k, v in files_filtered.items() if v.startswith('app\\\\')}\n",
    "\n",
    "# get just the names\n",
    "files_entities_names = list(files_entities.values())\n",
    "print(\"Number of files: \", len(files_entities_names))"
   ]
  },
  {
   "cell_type": "code",
   "execution_count": null,
   "metadata": {},
   "outputs": [],
   "source": [
    "# Analyze change frequencies(generate a bar chart: num-changes/files)\n",
    "import matplotlib.pyplot as plt\n",
    "import numpy as np\n",
    "# find number of changes per file\n",
    "changes = {}\n",
    "for commit in all_commits:\n",
    "    for mod in commit.modified_files:\n",
    "        if mod.filename in changes:\n",
    "            changes[mod.filename] += 1\n",
    "        else:\n",
    "            changes[mod.filename] = 1"
   ]
  }
 ],
 "metadata": {
  "kernelspec": {
   "display_name": "Python 3.8.13 ('DL')",
   "language": "python",
   "name": "python3"
  },
  "language_info": {
   "codemirror_mode": {
    "name": "ipython",
    "version": 3
   },
   "file_extension": ".py",
   "mimetype": "text/x-python",
   "name": "python",
   "nbconvert_exporter": "python",
   "pygments_lexer": "ipython3",
   "version": "3.8.13"
  },
  "orig_nbformat": 4,
  "vscode": {
   "interpreter": {
    "hash": "a7470ae86e57d468cb848d5b5b62a40a84e08338f855f2d63a3dbd376099e19e"
   }
  }
 },
 "nbformat": 4,
 "nbformat_minor": 2
}
