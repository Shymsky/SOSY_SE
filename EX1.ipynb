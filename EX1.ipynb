{
 "cells": [
  {
   "cell_type": "markdown",
   "metadata": {},
   "source": [
    "# Complexity Hotspots"
   ]
  },
  {
   "cell_type": "markdown",
   "metadata": {},
   "source": [
    "1. You must consider only the app folder from the Mastodon repository\n",
    "(i.e., https://github.com/mastodon/mastodon)."
   ]
  },
  {
   "cell_type": "code",
   "execution_count": 12,
   "metadata": {},
   "outputs": [],
   "source": [
    "import pydriller\n",
    "# load the repository into PyDriller from URL \n",
    "repo = pydriller.Repository('https://github.com/mastodon/mastodon')\n",
    "\n",
    "import pickle\n",
    "# save repo as pickle file\n",
    "with open('repo.pkl', 'wb') as f:\n",
    "    pickle.dump(repo, f)"
   ]
  },
  {
   "cell_type": "code",
   "execution_count": 14,
   "metadata": {},
   "outputs": [],
   "source": [
    "# open the pickle file\n",
    "with open('repo.pkl', 'rb') as f:\n",
    "    repo_mastodon = pickle.load(f)"
   ]
  },
  {
   "cell_type": "markdown",
   "metadata": {},
   "source": [
    "2. Decide on the granularity of your analysis of software entities (e.g., source code\n",
    "files); describe why you selected this specific granularity."
   ]
  },
  {
   "cell_type": "code",
   "execution_count": 15,
   "metadata": {},
   "outputs": [
    {
     "ename": "KeyboardInterrupt",
     "evalue": "",
     "output_type": "error",
     "traceback": [
      "\u001b[1;31m---------------------------------------------------------------------------\u001b[0m",
      "\u001b[1;31mKeyboardInterrupt\u001b[0m                         Traceback (most recent call last)",
      "\u001b[1;32mc:\\Users\\szymo\\Desktop\\SOSy_repos\\SOSY_SE\\EX1.ipynb Komórka 6\u001b[0m in \u001b[0;36m<cell line: 5>\u001b[1;34m()\u001b[0m\n\u001b[0;32m      <a href='vscode-notebook-cell:/c%3A/Users/szymo/Desktop/SOSy_repos/SOSY_SE/EX1.ipynb#W2sZmlsZQ%3D%3D?line=1'>2</a>\u001b[0m commits \u001b[39m=\u001b[39m \u001b[39mlist\u001b[39m(repo_mastodon\u001b[39m.\u001b[39mtraverse_commits())\n\u001b[0;32m      <a href='vscode-notebook-cell:/c%3A/Users/szymo/Desktop/SOSy_repos/SOSY_SE/EX1.ipynb#W2sZmlsZQ%3D%3D?line=3'>4</a>\u001b[0m \u001b[39m# get the list of modified files in the commits\u001b[39;00m\n\u001b[1;32m----> <a href='vscode-notebook-cell:/c%3A/Users/szymo/Desktop/SOSy_repos/SOSY_SE/EX1.ipynb#W2sZmlsZQ%3D%3D?line=4'>5</a>\u001b[0m modified_files \u001b[39m=\u001b[39m [commit\u001b[39m.\u001b[39mmodified_files \u001b[39mfor\u001b[39;00m commit \u001b[39min\u001b[39;00m commits]\n",
      "\u001b[1;32mc:\\Users\\szymo\\Desktop\\SOSy_repos\\SOSY_SE\\EX1.ipynb Komórka 6\u001b[0m in \u001b[0;36m<listcomp>\u001b[1;34m(.0)\u001b[0m\n\u001b[0;32m      <a href='vscode-notebook-cell:/c%3A/Users/szymo/Desktop/SOSy_repos/SOSY_SE/EX1.ipynb#W2sZmlsZQ%3D%3D?line=1'>2</a>\u001b[0m commits \u001b[39m=\u001b[39m \u001b[39mlist\u001b[39m(repo_mastodon\u001b[39m.\u001b[39mtraverse_commits())\n\u001b[0;32m      <a href='vscode-notebook-cell:/c%3A/Users/szymo/Desktop/SOSy_repos/SOSY_SE/EX1.ipynb#W2sZmlsZQ%3D%3D?line=3'>4</a>\u001b[0m \u001b[39m# get the list of modified files in the commits\u001b[39;00m\n\u001b[1;32m----> <a href='vscode-notebook-cell:/c%3A/Users/szymo/Desktop/SOSy_repos/SOSY_SE/EX1.ipynb#W2sZmlsZQ%3D%3D?line=4'>5</a>\u001b[0m modified_files \u001b[39m=\u001b[39m [commit\u001b[39m.\u001b[39;49mmodified_files \u001b[39mfor\u001b[39;00m commit \u001b[39min\u001b[39;00m commits]\n",
      "File \u001b[1;32mc:\\Users\\szymo\\miniconda3\\envs\\DL\\lib\\site-packages\\pydriller\\domain\\commit.py:667\u001b[0m, in \u001b[0;36mCommit.modified_files\u001b[1;34m(self)\u001b[0m\n\u001b[0;32m    658\u001b[0m \u001b[39m\"\"\"\u001b[39;00m\n\u001b[0;32m    659\u001b[0m \u001b[39mReturn a list of modified files. The list is empty if the commit is\u001b[39;00m\n\u001b[0;32m    660\u001b[0m \u001b[39ma merge commit. For more info on this, see\u001b[39;00m\n\u001b[1;32m   (...)\u001b[0m\n\u001b[0;32m    664\u001b[0m \u001b[39m:return: List[Modification] modifications\u001b[39;00m\n\u001b[0;32m    665\u001b[0m \u001b[39m\"\"\"\u001b[39;00m\n\u001b[0;32m    666\u001b[0m \u001b[39mif\u001b[39;00m \u001b[39mself\u001b[39m\u001b[39m.\u001b[39m_modified_files \u001b[39mis\u001b[39;00m \u001b[39mNone\u001b[39;00m:\n\u001b[1;32m--> 667\u001b[0m     \u001b[39mself\u001b[39m\u001b[39m.\u001b[39m_modified_files \u001b[39m=\u001b[39m \u001b[39mself\u001b[39;49m\u001b[39m.\u001b[39;49m_get_modified_files()\n\u001b[0;32m    669\u001b[0m \u001b[39massert\u001b[39;00m \u001b[39mself\u001b[39m\u001b[39m.\u001b[39m_modified_files \u001b[39mis\u001b[39;00m \u001b[39mnot\u001b[39;00m \u001b[39mNone\u001b[39;00m\n\u001b[0;32m    670\u001b[0m \u001b[39mreturn\u001b[39;00m \u001b[39mself\u001b[39m\u001b[39m.\u001b[39m_modified_files\n",
      "File \u001b[1;32mc:\\Users\\szymo\\miniconda3\\envs\\DL\\lib\\site-packages\\pydriller\\domain\\commit.py:682\u001b[0m, in \u001b[0;36mCommit._get_modified_files\u001b[1;34m(self)\u001b[0m\n\u001b[0;32m    678\u001b[0m     options[\u001b[39m\"\u001b[39m\u001b[39mw\u001b[39m\u001b[39m\"\u001b[39m] \u001b[39m=\u001b[39m \u001b[39mTrue\u001b[39;00m\n\u001b[0;32m    680\u001b[0m \u001b[39mif\u001b[39;00m \u001b[39mlen\u001b[39m(\u001b[39mself\u001b[39m\u001b[39m.\u001b[39mparents) \u001b[39m==\u001b[39m \u001b[39m1\u001b[39m:\n\u001b[0;32m    681\u001b[0m     \u001b[39m# the commit has a parent\u001b[39;00m\n\u001b[1;32m--> 682\u001b[0m     diff_index \u001b[39m=\u001b[39m \u001b[39mself\u001b[39;49m\u001b[39m.\u001b[39;49m_c_object\u001b[39m.\u001b[39;49mparents[\u001b[39m0\u001b[39;49m]\u001b[39m.\u001b[39;49mdiff(\n\u001b[0;32m    683\u001b[0m         \u001b[39mself\u001b[39;49m\u001b[39m.\u001b[39;49m_c_object, create_patch\u001b[39m=\u001b[39;49m\u001b[39mTrue\u001b[39;49;00m, \u001b[39m*\u001b[39;49m\u001b[39m*\u001b[39;49moptions\n\u001b[0;32m    684\u001b[0m     )\n\u001b[0;32m    685\u001b[0m \u001b[39melif\u001b[39;00m \u001b[39mlen\u001b[39m(\u001b[39mself\u001b[39m\u001b[39m.\u001b[39mparents) \u001b[39m>\u001b[39m \u001b[39m1\u001b[39m:\n\u001b[0;32m    686\u001b[0m     \u001b[39m# if it's a merge commit, the modified files of the commit are the\u001b[39;00m\n\u001b[0;32m    687\u001b[0m     \u001b[39m# conflicts. This because if the file is not in conflict,\u001b[39;00m\n\u001b[1;32m   (...)\u001b[0m\n\u001b[0;32m    694\u001b[0m     \u001b[39m# d = c_git.diff_tree(\"--cc\", commit.hexsha, '-r', '--abbrev=40',\u001b[39;00m\n\u001b[0;32m    695\u001b[0m     \u001b[39m#                     '--full-index', '-M', '-p', '--no-color')\u001b[39;00m\n\u001b[0;32m    696\u001b[0m     diff_index \u001b[39m=\u001b[39m []\n",
      "File \u001b[1;32mc:\\Users\\szymo\\miniconda3\\envs\\DL\\lib\\site-packages\\git\\diff.py:188\u001b[0m, in \u001b[0;36mDiffable.diff\u001b[1;34m(self, other, paths, create_patch, **kwargs)\u001b[0m\n\u001b[0;32m    185\u001b[0m proc \u001b[39m=\u001b[39m diff_cmd(\u001b[39m*\u001b[39m\u001b[39mself\u001b[39m\u001b[39m.\u001b[39m_process_diff_args(args), \u001b[39m*\u001b[39m\u001b[39m*\u001b[39mkwargs)\n\u001b[0;32m    187\u001b[0m diff_method \u001b[39m=\u001b[39m Diff\u001b[39m.\u001b[39m_index_from_patch_format \u001b[39mif\u001b[39;00m create_patch \u001b[39melse\u001b[39;00m Diff\u001b[39m.\u001b[39m_index_from_raw_format\n\u001b[1;32m--> 188\u001b[0m index \u001b[39m=\u001b[39m diff_method(\u001b[39mself\u001b[39;49m\u001b[39m.\u001b[39;49mrepo, proc)\n\u001b[0;32m    190\u001b[0m proc\u001b[39m.\u001b[39mwait()\n\u001b[0;32m    191\u001b[0m \u001b[39mreturn\u001b[39;00m index\n",
      "File \u001b[1;32mc:\\Users\\szymo\\miniconda3\\envs\\DL\\lib\\site-packages\\git\\diff.py:494\u001b[0m, in \u001b[0;36mDiff._index_from_patch_format\u001b[1;34m(cls, repo, proc)\u001b[0m\n\u001b[0;32m    492\u001b[0m \u001b[39m## FIXME: Here SLURPING raw, need to re-phrase header-regexes linewise.\u001b[39;00m\n\u001b[0;32m    493\u001b[0m text_list: List[\u001b[39mbytes\u001b[39m] \u001b[39m=\u001b[39m []\n\u001b[1;32m--> 494\u001b[0m handle_process_output(proc, text_list\u001b[39m.\u001b[39;49mappend, \u001b[39mNone\u001b[39;49;00m, finalize_process, decode_streams\u001b[39m=\u001b[39;49m\u001b[39mFalse\u001b[39;49;00m)\n\u001b[0;32m    496\u001b[0m \u001b[39m# for now, we have to bake the stream\u001b[39;00m\n\u001b[0;32m    497\u001b[0m text \u001b[39m=\u001b[39m \u001b[39mb\u001b[39m\u001b[39m\"\u001b[39m\u001b[39m\"\u001b[39m\u001b[39m.\u001b[39mjoin(text_list)\n",
      "File \u001b[1;32mc:\\Users\\szymo\\miniconda3\\envs\\DL\\lib\\site-packages\\git\\cmd.py:181\u001b[0m, in \u001b[0;36mhandle_process_output\u001b[1;34m(process, stdout_handler, stderr_handler, finalizer, decode_streams, kill_after_timeout)\u001b[0m\n\u001b[0;32m    178\u001b[0m \u001b[39m## FIXME: Why Join??  Will block if `stdin` needs feeding...\u001b[39;00m\n\u001b[0;32m    179\u001b[0m \u001b[39m#\u001b[39;00m\n\u001b[0;32m    180\u001b[0m \u001b[39mfor\u001b[39;00m t \u001b[39min\u001b[39;00m threads:\n\u001b[1;32m--> 181\u001b[0m     t\u001b[39m.\u001b[39;49mjoin(timeout\u001b[39m=\u001b[39;49mkill_after_timeout)\n\u001b[0;32m    182\u001b[0m     \u001b[39mif\u001b[39;00m t\u001b[39m.\u001b[39mis_alive():\n\u001b[0;32m    183\u001b[0m         \u001b[39mif\u001b[39;00m \u001b[39misinstance\u001b[39m(process, Git\u001b[39m.\u001b[39mAutoInterrupt):\n",
      "File \u001b[1;32mc:\\Users\\szymo\\miniconda3\\envs\\DL\\lib\\threading.py:1011\u001b[0m, in \u001b[0;36mThread.join\u001b[1;34m(self, timeout)\u001b[0m\n\u001b[0;32m   1008\u001b[0m     \u001b[39mraise\u001b[39;00m \u001b[39mRuntimeError\u001b[39;00m(\u001b[39m\"\u001b[39m\u001b[39mcannot join current thread\u001b[39m\u001b[39m\"\u001b[39m)\n\u001b[0;32m   1010\u001b[0m \u001b[39mif\u001b[39;00m timeout \u001b[39mis\u001b[39;00m \u001b[39mNone\u001b[39;00m:\n\u001b[1;32m-> 1011\u001b[0m     \u001b[39mself\u001b[39;49m\u001b[39m.\u001b[39;49m_wait_for_tstate_lock()\n\u001b[0;32m   1012\u001b[0m \u001b[39melse\u001b[39;00m:\n\u001b[0;32m   1013\u001b[0m     \u001b[39m# the behavior of a negative timeout isn't documented, but\u001b[39;00m\n\u001b[0;32m   1014\u001b[0m     \u001b[39m# historically .join(timeout=x) for x<0 has acted as if timeout=0\u001b[39;00m\n\u001b[0;32m   1015\u001b[0m     \u001b[39mself\u001b[39m\u001b[39m.\u001b[39m_wait_for_tstate_lock(timeout\u001b[39m=\u001b[39m\u001b[39mmax\u001b[39m(timeout, \u001b[39m0\u001b[39m))\n",
      "File \u001b[1;32mc:\\Users\\szymo\\miniconda3\\envs\\DL\\lib\\threading.py:1027\u001b[0m, in \u001b[0;36mThread._wait_for_tstate_lock\u001b[1;34m(self, block, timeout)\u001b[0m\n\u001b[0;32m   1025\u001b[0m \u001b[39mif\u001b[39;00m lock \u001b[39mis\u001b[39;00m \u001b[39mNone\u001b[39;00m:  \u001b[39m# already determined that the C code is done\u001b[39;00m\n\u001b[0;32m   1026\u001b[0m     \u001b[39massert\u001b[39;00m \u001b[39mself\u001b[39m\u001b[39m.\u001b[39m_is_stopped\n\u001b[1;32m-> 1027\u001b[0m \u001b[39melif\u001b[39;00m lock\u001b[39m.\u001b[39;49macquire(block, timeout):\n\u001b[0;32m   1028\u001b[0m     lock\u001b[39m.\u001b[39mrelease()\n\u001b[0;32m   1029\u001b[0m     \u001b[39mself\u001b[39m\u001b[39m.\u001b[39m_stop()\n",
      "\u001b[1;31mKeyboardInterrupt\u001b[0m: "
     ]
    }
   ],
   "source": [
    "# get the list of commits\n",
    "commits = list(repo_mastodon.traverse_commits())\n",
    "\n",
    "# get the list of modified files in the commits\n",
    "modified_files = [commit.modified_files for commit in commits]\n",
    "\n",
    "# find unique files\n",
    "unique_files = set([file for files in modified_files for file in files])"
   ]
  }
 ],
 "metadata": {
  "kernelspec": {
   "display_name": "Python 3.8.13 ('DL')",
   "language": "python",
   "name": "python3"
  },
  "language_info": {
   "codemirror_mode": {
    "name": "ipython",
    "version": 3
   },
   "file_extension": ".py",
   "mimetype": "text/x-python",
   "name": "python",
   "nbconvert_exporter": "python",
   "pygments_lexer": "ipython3",
   "version": "3.8.13"
  },
  "orig_nbformat": 4,
  "vscode": {
   "interpreter": {
    "hash": "a7470ae86e57d468cb848d5b5b62a40a84e08338f855f2d63a3dbd376099e19e"
   }
  }
 },
 "nbformat": 4,
 "nbformat_minor": 2
}
