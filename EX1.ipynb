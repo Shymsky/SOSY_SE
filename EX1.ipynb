{
 "cells": [
  {
   "cell_type": "markdown",
   "metadata": {},
   "source": [
    "# Complexity Hotspots"
   ]
  },
  {
   "cell_type": "markdown",
   "metadata": {},
   "source": [
    "1. You must consider only the app folder from the Mastodon repository\n",
    "(i.e., https://github.com/mastodon/mastodon)."
   ]
  },
  {
   "cell_type": "code",
   "execution_count": 12,
   "metadata": {},
   "outputs": [],
   "source": [
    "import pydriller\n",
    "# load the repository into PyDriller from URL \n",
    "repo = pydriller.Repository('https://github.com/mastodon/mastodon')\n",
    "\n",
    "import pickle\n",
    "# save repo as pickle file\n",
    "with open('repo.pkl', 'wb') as f:\n",
    "    pickle.dump(repo, f)"
   ]
  },
  {
   "cell_type": "code",
   "execution_count": 14,
   "metadata": {},
   "outputs": [],
   "source": [
    "# open the pickle file\n",
    "with open('repo.pkl', 'rb') as f:\n",
    "    repo_mastodon = pickle.load(f)"
   ]
  },
  {
   "cell_type": "markdown",
   "metadata": {},
   "source": [
    "2. Decide on the granularity of your analysis of software entities (e.g., source code\n",
    "files); describe why you selected this specific granularity."
   ]
  },
  {
   "cell_type": "code",
   "execution_count": 36,
   "metadata": {},
   "outputs": [],
   "source": [
    "# git ls-files | awk -F . '{print $NF}' | sort | uniq -c | sort -n -r | awk '{print $2,$1}' | head -10\n",
    "# rb 895\n",
    "# js 437\n",
    "# haml 214\n",
    "# json 178\n",
    "# png 37\n",
    "# erb 33\n",
    "# scss 32\n",
    "# svg 24\n",
    "# woff2 5\n",
    "# woff 5"
   ]
  },
  {
   "cell_type": "markdown",
   "metadata": {},
   "source": []
  },
  {
   "cell_type": "code",
   "execution_count": 16,
   "metadata": {},
   "outputs": [],
   "source": [
    "# get the list of commits\n",
    "commits = list(repo_mastodon.traverse_commits())\n",
    "\n",
    "# get the list of modified files in the commits\n",
    "modified_files = [commit.modified_files for commit in commits]\n",
    "\n",
    "# find unique files\n",
    "unique_files = set([file for files in modified_files for file in files])"
   ]
  }
 ],
 "metadata": {
  "kernelspec": {
   "display_name": "Python 3.8.13 ('DL')",
   "language": "python",
   "name": "python3"
  },
  "language_info": {
   "codemirror_mode": {
    "name": "ipython",
    "version": 3
   },
   "file_extension": ".py",
   "mimetype": "text/x-python",
   "name": "python",
   "nbconvert_exporter": "python",
   "pygments_lexer": "ipython3",
   "version": "3.8.13"
  },
  "orig_nbformat": 4,
  "vscode": {
   "interpreter": {
    "hash": "a7470ae86e57d468cb848d5b5b62a40a84e08338f855f2d63a3dbd376099e19e"
   }
  }
 },
 "nbformat": 4,
 "nbformat_minor": 2
}
