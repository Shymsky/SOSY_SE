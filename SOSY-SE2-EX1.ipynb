{
 "cells": [
  {
   "cell_type": "code",
   "execution_count": 1,
   "id": "549ab9fa",
   "metadata": {
    "scrolled": true
   },
   "outputs": [],
   "source": [
    "import pydriller\n",
    "import numpy as np\n",
    "import matplotlib.pyplot as plt"
   ]
  },
  {
   "cell_type": "code",
   "execution_count": 2,
   "id": "11a0689a",
   "metadata": {
    "scrolled": true
   },
   "outputs": [],
   "source": [
    "elastic_path = \"C:\\\\Users\\\\luist\\\\OneDrive\\\\Escritorio\\\\SOSY-SE-ASSIGNMENT\\\\elastic\\\\elasticsearch\""
   ]
  },
  {
   "cell_type": "code",
   "execution_count": 3,
   "id": "f1c2610e",
   "metadata": {
    "scrolled": true
   },
   "outputs": [],
   "source": [
    "repo = pydriller.Repository(elastic_path, from_tag=\"v1.0.0\", to_tag=\"v1.1.0\")"
   ]
  },
  {
   "cell_type": "code",
   "execution_count": 4,
   "id": "e6c7e94f",
   "metadata": {
    "scrolled": true
   },
   "outputs": [],
   "source": [
    "# we create the dictionary author => number of modified files\n",
    "\n",
    "authors_nmodif_dictionary = {}\n",
    "for c in repo.traverse_commits():\n",
    "    for mf in c.modified_files:\n",
    "        if mf.new_path is not None:\n",
    "            if mf.new_path.endswith('java'):\n",
    "                if c.author.name not in authors_nmodif_dictionary:\n",
    "                    authors_nmodif_dictionary[c.author.name] = 1\n",
    "                else:\n",
    "                    authors_nmodif_dictionary[c.author.name] += 1      \n",
    "authors_nmodif_dictionary = {k: v for k, v in sorted(authors_nmodif_dictionary.items(), key=lambda item: item[1], reverse=True)}"
   ]
  },
  {
   "cell_type": "code",
   "execution_count": 50,
   "id": "1efa3d10",
   "metadata": {},
   "outputs": [
    {
     "data": {
      "image/png": "[encoded data removed]",
      "text/plain": [
       "<Figure size 720x576 with 1 Axes>"
      ]
     },
     "metadata": {
      "needs_background": "light"
     },
     "output_type": "display_data"
    }
   ],
   "source": [
    "# visualization: number of authors (y) who modified n files (x)\n",
    "\n",
    "plt.figure(figsize=(10,8))\n",
    "plt.hist(list(authors_nmodif_dictionary.values()), bins=10)\n",
    "plt.yscale('log')\n",
    "plt.show()"
   ]
  },
  {
   "cell_type": "code",
   "execution_count": 6,
   "id": "6fc8ebdc",
   "metadata": {
    "scrolled": true
   },
   "outputs": [],
   "source": [
    "# we create the dictionary file => number of authors\n",
    "\n",
    "file_author_dictionary = {}\n",
    "for c in repo.traverse_commits():\n",
    "    author = c.author.name\n",
    "    for mf in c.modified_files:\n",
    "        if mf.new_path is not None:\n",
    "            if mf.new_path.endswith('java'):\n",
    "                if mf.new_path not in file_author_dictionary:\n",
    "                    file_author_dictionary[mf.new_path] = set([author])\n",
    "                else:\n",
    "                    file_author_dictionary[mf.new_path].add(author)\n",
    "file_author_dictionary = {k: len(v) for k, v in file_author_dictionary.items()}\n",
    "file_author_dictionary = {k: v for k, v in sorted(file_author_dictionary.items(), key=lambda item: item[1], reverse=True)}"
   ]
  },
  {
   "cell_type": "code",
   "execution_count": 48,
   "id": "8a23a49b",
   "metadata": {},
   "outputs": [
    {
     "data": {
      "image/png": "[encoded data removed]",
      "text/plain": [
       "<Figure size 720x576 with 1 Axes>"
      ]
     },
     "metadata": {
      "needs_background": "light"
     },
     "output_type": "display_data"
    }
   ],
   "source": [
    "# visualization: number files (y) with n authors (x)\n",
    "\n",
    "plt.figure(figsize=(10,8))\n",
    "plt.hist(list(file_author_dictionary.values()), bins=10)\n",
    "plt.yscale('log')\n",
    "plt.show()"
   ]
  },
  {
   "cell_type": "code",
   "execution_count": 29,
   "id": "a1ce6daa",
   "metadata": {},
   "outputs": [],
   "source": [
    "from enum import Enum\n",
    "\n",
    "class Modification(Enum):\n",
    "    ADDED = \"Lines added\"\n",
    "    REMOVED = \"Lines removed\"\n",
    "    TOTAL = \"Lines added + lines removed\"\n",
    "    DIFF = \"Lines added - lines removed\""
   ]
  },
  {
   "cell_type": "code",
   "execution_count": 51,
   "id": "b99d71b0",
   "metadata": {},
   "outputs": [],
   "source": [
    "def count_lines(operation, file):\n",
    "    if operation == Modification.ADDED:\n",
    "        return file.added_lines\n",
    "    elif operation == Modification.REMOVED:\n",
    "        return file.deleted_lines\n",
    "    elif operation == Modification.DIFF:\n",
    "        return file.added_lines - file.deleted_lines\n",
    "    elif operation == Modification.TOTAL:\n",
    "        return file.added_lines + file.deleted_lines\n",
    "    else:\n",
    "        raise \"Invalid operation\"\n",
    "        \n",
    "# the following situations can happen\n",
    "# 1 - a file is added --> old path = None\n",
    "# 2 - a file is deleted --> new path = None\n",
    "# 3 - a file is moved --> old != new (we need to count both)\n",
    "# 4 - otherwise old == new\n",
    "        \n",
    "def get_modification_loc(operation, filepath):\n",
    "    res = {}\n",
    "    for c in repo.traverse_commits():\n",
    "        author = c.author.name\n",
    "        for mf in c.modified_files:\n",
    "            # situation 1\n",
    "            if mf.old_path is None:\n",
    "                if mf.new_path.startswith(filepath):\n",
    "                    if author not in res:\n",
    "                        res[author] = count_lines(operation, mf)\n",
    "                    else:\n",
    "                        res[author] += count_lines(operation, mf)\n",
    "            # situation 2\n",
    "            elif mf.new_path is None:\n",
    "                if mf.old_path.startswith(filepath):\n",
    "                    if author not in res:\n",
    "                        res[author] = count_lines(operation, mf)\n",
    "                    else:\n",
    "                        res[author] += count_lines(operation, mf)\n",
    "            # situation 3\n",
    "            elif mf.old_path != mf.new_path:\n",
    "                if mf.new_path.startswith(filepath):\n",
    "                    if author not in res:\n",
    "                        res[author] = count_lines(operation, mf)\n",
    "                    else:\n",
    "                        res[author] += count_lines(operation, mf)\n",
    "                if mf.old_path.startswith(filepath):\n",
    "                    if author not in res:\n",
    "                        res[author] = count_lines(operation, mf)\n",
    "                    else:\n",
    "                        res[author] += count_lines(operation, mf) \n",
    "            # situation 4\n",
    "            else:\n",
    "                if mf.new_path.startswith(filepath):\n",
    "                    if author not in res:\n",
    "                        res[author] = count_lines(operation, mf)\n",
    "                    else:\n",
    "                        res[author] += count_lines(operation, mf)\n",
    "                            \n",
    "    return {k: v for k, v in sorted(res.items(), key=lambda item: item[1], reverse=True)}"
   ]
  },
  {
   "cell_type": "code",
   "execution_count": 52,
   "id": "8afabf14",
   "metadata": {},
   "outputs": [],
   "source": [
    "filepath = \"src\\\\main\\\\java\\\\org\\\\elasticsearch\\\\search\"\n",
    "\n",
    "total_modification = get_modification_loc(Modification.TOTAL, filepath)"
   ]
  },
  {
   "cell_type": "code",
   "execution_count": 53,
   "id": "464f4313",
   "metadata": {},
   "outputs": [
    {
     "data": {
      "text/plain": [
       "{'uboness': 4285,\n",
       " 'Zachary Tong': 2297,\n",
       " 'Adrien Grand': 2193,\n",
       " 'markharwood': 1965,\n",
       " 'Simon Willnauer': 1743,\n",
       " 'Florian Schilling': 1702,\n",
       " 'javanna': 617,\n",
       " 'Nik Everett': 338,\n",
       " 'Lee Hinman': 269,\n",
       " 'Martijn van Groningen': 93,\n",
       " 'Alexander Reelsen': 79,\n",
       " 'Luca Cavanna': 69,\n",
       " 'jayesh.modi': 24,\n",
       " 'Nils Dijk': 14,\n",
       " 'Britta Weber': 2}"
      ]
     },
     "execution_count": 53,
     "metadata": {},
     "output_type": "execute_result"
    }
   ],
   "source": [
    "total_modification"
   ]
  },
  {
   "cell_type": "code",
   "execution_count": 54,
   "id": "6e097bba",
   "metadata": {},
   "outputs": [
    {
     "data": {
      "image/png": "[encoded data removed]",
      "text/plain": [
       "<Figure size 720x576 with 1 Axes>"
      ]
     },
     "metadata": {
      "needs_background": "light"
     },
     "output_type": "display_data"
    }
   ],
   "source": [
    "plt.figure(figsize=(10,8))\n",
    "plt.title('Total contributions - Search package', fontsize=16)\n",
    "plt.bar(total_modification.keys(), total_modification.values())\n",
    "plt.yscale('log')\n",
    "plt.xticks(rotation='vertical')\n",
    "plt.show()"
   ]
  },
  {
   "cell_type": "code",
   "execution_count": null,
   "id": "8e13a359",
   "metadata": {},
   "outputs": [],
   "source": []
  }
 ],
 "metadata": {
  "kernelspec": {
   "display_name": "Python 3",
   "language": "python",
   "name": "python3"
  },
  "language_info": {
   "codemirror_mode": {
    "name": "ipython",
    "version": 3
   },
   "file_extension": ".py",
   "mimetype": "text/x-python",
   "name": "python",
   "nbconvert_exporter": "python",
   "pygments_lexer": "ipython3",
   "version": "3.8.8"
  }
 },
 "nbformat": 4,
 "nbformat_minor": 5
}
